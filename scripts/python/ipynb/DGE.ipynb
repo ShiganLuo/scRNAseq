{
 "cells": [
  {
   "cell_type": "code",
   "execution_count": 12,
   "metadata": {},
   "outputs": [],
   "source": [
    "import warnings\n",
    "\n",
    "warnings.filterwarnings(\"ignore\")\n",
    "\n",
    "import matplotlib.pyplot as plt\n",
    "import seaborn as sns\n",
    "import scanpy as sc\n",
    "import pandas as pd\n",
    "import numpy as np\n",
    "import random\n",
    "import sc_toolbox\n",
    "\n",
    "\n",
    "import rpy2.rinterface_lib.callbacks\n",
    "import anndata2ri\n",
    "import logging\n",
    "\n",
    "from rpy2.robjects import pandas2ri\n",
    "from rpy2.robjects import r\n",
    "\n",
    "sc.settings.verbosity = 0\n",
    "rpy2.rinterface_lib.callbacks.logger.setLevel(logging.ERROR)\n",
    "\n",
    "pandas2ri.activate()\n",
    "anndata2ri.activate()\n",
    "%reload_ext rpy2.ipython\n"
   ]
  },
  {
   "cell_type": "code",
   "execution_count": null,
   "metadata": {},
   "outputs": [
    {
     "data": {
      "text/plain": [
       "array(['MAST', 'SingleCellExperiment', 'SummarizedExperiment', 'Biobase',\n",
       "       'GenomicRanges', 'GenomeInfoDb', 'IRanges', 'S4Vectors',\n",
       "       'BiocGenerics', 'stats4', 'MatrixGenerics', 'matrixStats', 'edgeR',\n",
       "       'limma', 'tools', 'stats', 'graphics', 'grDevices', 'utils',\n",
       "       'datasets', 'methods', 'base'], dtype='<U20')"
      ]
     },
     "execution_count": 7,
     "metadata": {},
     "output_type": "execute_result"
    }
   ],
   "source": [
    "r('library(edgeR)')\n",
    "r('library(MAST)')"
   ]
  },
  {
   "cell_type": "code",
   "execution_count": 8,
   "metadata": {},
   "outputs": [
    {
     "name": "stdout",
     "output_type": "stream",
     "text": [
      "AnnData object with n_obs × n_vars = 24673 × 15706\n",
      "    obs: 'nCount_RNA', 'nFeature_RNA', 'tsne1', 'tsne2', 'label', 'cluster', 'cell_type', 'replicate', 'nCount_SCT', 'nFeature_SCT', 'integrated_snn_res.0.4', 'seurat_clusters'\n",
      "    var: 'name'\n",
      "    obsm: 'X_pca', 'X_umap'\n"
     ]
    }
   ],
   "source": [
    "adata = sc.read_h5ad(\"/home/lsg/Data/glioblastoma/kang.h5ad\")\n",
    "print(adata)"
   ]
  },
  {
   "cell_type": "markdown",
   "metadata": {},
   "source": [
    "We filter cells which have less than 200 genes and genes which were found in less than 3 cells for a rudimentary quality control."
   ]
  },
  {
   "cell_type": "code",
   "execution_count": 9,
   "metadata": {},
   "outputs": [
    {
     "data": {
      "text/plain": [
       "AnnData object with n_obs × n_vars = 24562 × 15701\n",
       "    obs: 'nCount_RNA', 'nFeature_RNA', 'tsne1', 'tsne2', 'label', 'cluster', 'cell_type', 'replicate', 'nCount_SCT', 'nFeature_SCT', 'integrated_snn_res.0.4', 'seurat_clusters', 'n_genes'\n",
       "    var: 'name', 'n_cells'\n",
       "    obsm: 'X_pca', 'X_umap'"
      ]
     },
     "execution_count": 9,
     "metadata": {},
     "output_type": "execute_result"
    }
   ],
   "source": [
    "sc.pp.filter_cells(adata, min_genes=200)\n",
    "sc.pp.filter_genes(adata, min_cells=3)\n",
    "adata"
   ]
  },
  {
   "cell_type": "markdown",
   "metadata": {},
   "source": [
    "## 1.Pseudobulk"
   ]
  },
  {
   "cell_type": "code",
   "execution_count": 10,
   "metadata": {},
   "outputs": [],
   "source": [
    "adata.obs[\"sample\"] = [\n",
    "    f\"{rep}_{l}\" for rep, l in zip(adata.obs[\"replicate\"], adata.obs[\"label\"])\n",
    "]\n",
    "adata.obs[\"cell_type\"] = [ct.replace(\" \", \"_\") for ct in adata.obs[\"cell_type\"]]\n",
    "adata.obs[\"cell_type\"] = [ct.replace(\"+\", \"\") for ct in adata.obs[\"cell_type\"]]\n",
    "adata.obs[\"replicate\"] = adata.obs[\"replicate\"].astype(\"category\")\n",
    "adata.obs[\"label\"] = adata.obs[\"label\"].astype(\"category\")\n",
    "adata.obs[\"sample\"] = adata.obs[\"sample\"].astype(\"category\")\n",
    "adata.obs[\"cell_type\"] = adata.obs[\"cell_type\"].astype(\"category\")"
   ]
  },
  {
   "cell_type": "markdown",
   "metadata": {},
   "source": [
    "Now, let’s define the function we need to aggregate single cells into pseudo-replicates:\n",
    "\n",
    "aggregate_and_filter is a function that creates an AnnData object with one pseudo-replicate for each donor for a specified subpopulation from the original single-cell AnnData object. Here, we also filter out donors that have fewer than 30 cells for the specified population.\n",
    "\n",
    "by changing the replicates_per_patient parameter, several (n) pseudo-replicates can be created for each sample; cells are then split into n subsets of roughly equal sizes."
   ]
  },
  {
   "cell_type": "code",
   "execution_count": 11,
   "metadata": {},
   "outputs": [],
   "source": [
    "NUM_OF_CELL_PER_DONOR = 30\n",
    "\n",
    "\n",
    "def aggregate_and_filter(\n",
    "    adata,\n",
    "    cell_identity,\n",
    "    donor_key=\"sample\",\n",
    "    condition_key=\"label\",\n",
    "    cell_identity_key=\"cell_type\",\n",
    "    obs_to_keep=[],  # which additional metadata to keep, e.g. gender, age, etc.\n",
    "    replicates_per_patient=1,\n",
    "):\n",
    "    # subset adata to the given cell identity\n",
    "    adata_cell_pop = adata[adata.obs[cell_identity_key] == cell_identity].copy()\n",
    "    # check which donors to keep according to the number of cells specified with NUM_OF_CELL_PER_DONOR\n",
    "    size_by_donor = adata_cell_pop.obs.groupby([donor_key]).size()\n",
    "    donors_to_drop = [\n",
    "        donor\n",
    "        for donor in size_by_donor.index\n",
    "        if size_by_donor[donor] <= NUM_OF_CELL_PER_DONOR\n",
    "    ]\n",
    "    if len(donors_to_drop) > 0:\n",
    "        print(\"Dropping the following samples:\")\n",
    "        print(donors_to_drop)\n",
    "    df = pd.DataFrame(columns=[*adata_cell_pop.var_names, *obs_to_keep])\n",
    "\n",
    "    adata_cell_pop.obs[donor_key] = adata_cell_pop.obs[donor_key].astype(\"category\")\n",
    "    for i, donor in enumerate(donors := adata_cell_pop.obs[donor_key].cat.categories):\n",
    "        print(f\"\\tProcessing donor {i+1} out of {len(donors)}...\", end=\"\\r\")\n",
    "        if donor not in donors_to_drop:\n",
    "            adata_donor = adata_cell_pop[adata_cell_pop.obs[donor_key] == donor]\n",
    "            # create replicates for each donor\n",
    "            indices = list(adata_donor.obs_names)\n",
    "            random.shuffle(indices)\n",
    "            indices = np.array_split(np.array(indices), replicates_per_patient)\n",
    "            for i, rep_idx in enumerate(indices):\n",
    "                adata_replicate = adata_donor[rep_idx]\n",
    "                # specify how to aggregate: sum gene expression for each gene for each donor and also keep the condition information\n",
    "                agg_dict = {gene: \"sum\" for gene in adata_replicate.var_names}\n",
    "                for obs in obs_to_keep:\n",
    "                    agg_dict[obs] = \"first\"\n",
    "                # create a df with all genes, donor and condition info\n",
    "                df_donor = pd.DataFrame(adata_replicate.X.A)\n",
    "                df_donor.index = adata_replicate.obs_names\n",
    "                df_donor.columns = adata_replicate.var_names\n",
    "                df_donor = df_donor.join(adata_replicate.obs[obs_to_keep])\n",
    "                # aggregate\n",
    "                df_donor = df_donor.groupby(donor_key).agg(agg_dict)\n",
    "                df_donor[donor_key] = donor\n",
    "                df.loc[f\"donor_{donor}_{i}\"] = df_donor.loc[donor]\n",
    "    print(\"\\n\")\n",
    "    # create AnnData object from the df\n",
    "    adata_cell_pop = sc.AnnData(\n",
    "        df[adata_cell_pop.var_names], obs=df.drop(columns=adata_cell_pop.var_names)\n",
    "    )\n",
    "    return adata_cell_pop"
   ]
  },
  {
   "cell_type": "markdown",
   "metadata": {},
   "source": [
    "We also need to define a separate function to fit an edgeR GLM:\n",
    "\n",
    "fit_model takes a SingleCellExperiment object as input, creates the design matrix and outputs the fitted GLM. We also output the edgeR object of class DGEList to do some exploratory data analysis (EDA)."
   ]
  },
  {
   "cell_type": "code",
   "execution_count": 12,
   "metadata": {},
   "outputs": [
    {
     "data": {
      "text/plain": [
       "<rpy2.robjects.functions.SignatureTranslatedFunction object at 0x7c926b8c0310> [3]\n",
       "R classes: ('function',)"
      ]
     },
     "execution_count": 12,
     "metadata": {},
     "output_type": "execute_result"
    }
   ],
   "source": [
    "r('''\n",
    "fit_model <- function(adata_){\n",
    "    # create an edgeR object with counts and grouping factor\n",
    "    y <- DGEList(assay(adata_, \"X\"), group = colData(adata_)$label)\n",
    "    # filter out genes with low counts\n",
    "    print(\"Dimensions before subsetting:\")\n",
    "    print(dim(y))\n",
    "    print(\"\")\n",
    "    keep <- filterByExpr(y)\n",
    "    y <- y[keep, , keep.lib.sizes=FALSE]\n",
    "    print(\"Dimensions after subsetting:\")\n",
    "    print(dim(y))\n",
    "    print(\"\")\n",
    "    # normalize\n",
    "    y <- calcNormFactors(y)\n",
    "    # create a vector that is a concatenation of condition and cell type that we will later use with contrasts\n",
    "    group <- paste0(colData(adata_)$label, \".\", colData(adata_)$cell_type)\n",
    "    replicate <- colData(adata_)$replicate\n",
    "    # create a design matrix: here we have multiple donors so also consider that in the design matrix\n",
    "    design <- model.matrix(~ 0 + group + replicate)\n",
    "    # estimate dispersion\n",
    "    y <- estimateDisp(y, design = design)\n",
    "    # fit the model\n",
    "    fit <- glmQLFit(y, design)\n",
    "    return(list(\"fit\"=fit, \"design\"=design, \"y\"=y))\n",
    "}''')"
   ]
  },
  {
   "cell_type": "markdown",
   "metadata": {},
   "source": [
    "Now we have defined all the functions we need, so we can proceed with creating pseudobulks. We might want to look at available metadata later and therefore keep it in the AnnData object."
   ]
  },
  {
   "cell_type": "code",
   "execution_count": 13,
   "metadata": {},
   "outputs": [],
   "source": [
    "obs_to_keep = [\"label\", \"cell_type\", \"replicate\", \"sample\"]"
   ]
  },
  {
   "cell_type": "code",
   "execution_count": 15,
   "metadata": {},
   "outputs": [
    {
     "name": "stdout",
     "output_type": "stream",
     "text": [
      "Processing B_cells (1 out of 8)...\n",
      "Dropping the following samples:\n",
      "['patient_1039_ctrl']\n",
      "\tProcessing donor 16 out of 16...\n",
      "\n",
      "Processing CD14_Monocytes (2 out of 8)...\n",
      "\tProcessing donor 16 out of 16...\n",
      "\n",
      "Processing CD4_T_cells (3 out of 8)...\n",
      "\tProcessing donor 16 out of 16...\n",
      "\n",
      "Processing CD8_T_cells (4 out of 8)...\n",
      "Dropping the following samples:\n",
      "['patient_101_ctrl', 'patient_1039_ctrl', 'patient_1039_stim', 'patient_107_ctrl', 'patient_107_stim', 'patient_1244_ctrl', 'patient_1244_stim']\n",
      "\tProcessing donor 16 out of 16...\n",
      "\n",
      "Processing Dendritic_cells (5 out of 8)...\n",
      "Dropping the following samples:\n",
      "['patient_1016_ctrl', 'patient_1016_stim', 'patient_101_ctrl', 'patient_1039_ctrl', 'patient_1039_stim', 'patient_107_ctrl', 'patient_107_stim']\n",
      "\tProcessing donor 16 out of 16...\n",
      "\n",
      "Processing FCGR3A_Monocytes (6 out of 8)...\n",
      "Dropping the following samples:\n",
      "['patient_1039_ctrl', 'patient_1039_stim', 'patient_107_ctrl', 'patient_107_stim', 'patient_1244_stim']\n",
      "\tProcessing donor 16 out of 16...\n",
      "\n",
      "Processing Megakaryocytes (7 out of 8)...\n",
      "Dropping the following samples:\n",
      "['patient_1015_ctrl', 'patient_1015_stim', 'patient_1016_ctrl', 'patient_101_ctrl', 'patient_1039_stim', 'patient_107_stim', 'patient_1244_ctrl', 'patient_1244_stim', 'patient_1256_ctrl', 'patient_1256_stim', 'patient_1488_ctrl']\n",
      "\tProcessing donor 11 out of 11...\n",
      "\n",
      "Processing NK_cells (8 out of 8)...\n",
      "Dropping the following samples:\n",
      "['patient_1039_ctrl', 'patient_1039_stim']\n",
      "\tProcessing donor 16 out of 16...\n",
      "\n"
     ]
    }
   ],
   "source": [
    "# process first cell type separately...\n",
    "cell_type = adata.obs[\"cell_type\"].cat.categories[0]\n",
    "print(\n",
    "    f'Processing {cell_type} (1 out of {len(adata.obs[\"cell_type\"].cat.categories)})...'\n",
    ")\n",
    "adata_pb = aggregate_and_filter(adata, cell_type, obs_to_keep=obs_to_keep)\n",
    "for i, cell_type in enumerate(adata.obs[\"cell_type\"].cat.categories[1:]):\n",
    "    print(\n",
    "        f'Processing {cell_type} ({i+2} out of {len(adata.obs[\"cell_type\"].cat.categories)})...'\n",
    "    )\n",
    "    adata_cell_type = aggregate_and_filter(adata, cell_type, obs_to_keep=obs_to_keep)\n",
    "    adata_pb = adata_pb.concatenate(adata_cell_type)"
   ]
  },
  {
   "cell_type": "code",
   "execution_count": 19,
   "metadata": {},
   "outputs": [
    {
     "name": "stdout",
     "output_type": "stream",
     "text": [
      "AnnData object with n_obs × n_vars = 90 × 15701\n",
      "    obs: 'label', 'cell_type', 'replicate', 'sample', 'batch', 'lib_size'\n",
      "    uns: 'log1p', 'pca'\n",
      "    obsm: 'X_pca'\n",
      "    varm: 'PCs'\n",
      "    layers: 'counts'\n"
     ]
    }
   ],
   "source": [
    "adata_pb.layers['counts'] = adata_pb.X.copy()\n",
    "sc.pp.normalize_total(adata_pb, target_sum=1e6)\n",
    "sc.pp.log1p(adata_pb)\n",
    "sc.pp.pca(adata_pb)\n",
    "print(adata_pb)"
   ]
  },
  {
   "cell_type": "code",
   "execution_count": 18,
   "metadata": {},
   "outputs": [
    {
     "ename": "TypeError",
     "evalue": "loop of ufunc does not support argument 0 of type numpy.float32 which has no callable log method",
     "output_type": "error",
     "traceback": [
      "\u001b[0;31m---------------------------------------------------------------------------\u001b[0m",
      "\u001b[0;31mAttributeError\u001b[0m                            Traceback (most recent call last)",
      "\u001b[0;31mAttributeError\u001b[0m: 'numpy.float32' object has no attribute 'log'",
      "\nThe above exception was the direct cause of the following exception:\n",
      "\u001b[0;31mTypeError\u001b[0m                                 Traceback (most recent call last)",
      "Cell \u001b[0;32mIn[18], line 2\u001b[0m\n\u001b[1;32m      1\u001b[0m adata_pb\u001b[38;5;241m.\u001b[39mobs[\u001b[38;5;124m\"\u001b[39m\u001b[38;5;124mlib_size\u001b[39m\u001b[38;5;124m\"\u001b[39m] \u001b[38;5;241m=\u001b[39m np\u001b[38;5;241m.\u001b[39msum(adata_pb\u001b[38;5;241m.\u001b[39mlayers[\u001b[38;5;124m\"\u001b[39m\u001b[38;5;124mcounts\u001b[39m\u001b[38;5;124m\"\u001b[39m], axis\u001b[38;5;241m=\u001b[39m\u001b[38;5;241m1\u001b[39m)\n\u001b[0;32m----> 2\u001b[0m adata_pb\u001b[38;5;241m.\u001b[39mobs[\u001b[38;5;124m\"\u001b[39m\u001b[38;5;124mlog_lib_size\u001b[39m\u001b[38;5;124m\"\u001b[39m] \u001b[38;5;241m=\u001b[39m \u001b[43mnp\u001b[49m\u001b[38;5;241;43m.\u001b[39;49m\u001b[43mlog\u001b[49m\u001b[43m(\u001b[49m\u001b[43madata_pb\u001b[49m\u001b[38;5;241;43m.\u001b[39;49m\u001b[43mobs\u001b[49m\u001b[43m[\u001b[49m\u001b[38;5;124;43m\"\u001b[39;49m\u001b[38;5;124;43mlib_size\u001b[39;49m\u001b[38;5;124;43m\"\u001b[39;49m\u001b[43m]\u001b[49m\u001b[43m)\u001b[49m\n\u001b[1;32m      3\u001b[0m sc\u001b[38;5;241m.\u001b[39mpl\u001b[38;5;241m.\u001b[39mpca(adata_pb, color\u001b[38;5;241m=\u001b[39madata_pb\u001b[38;5;241m.\u001b[39mobs, ncols\u001b[38;5;241m=\u001b[39m\u001b[38;5;241m1\u001b[39m, size\u001b[38;5;241m=\u001b[39m\u001b[38;5;241m300\u001b[39m)\n",
      "File \u001b[0;32m~/anaconda3/envs/scRNA-seq/lib/python3.11/site-packages/pandas/core/generic.py:2171\u001b[0m, in \u001b[0;36mNDFrame.__array_ufunc__\u001b[0;34m(self, ufunc, method, *inputs, **kwargs)\u001b[0m\n\u001b[1;32m   2167\u001b[0m \u001b[38;5;129m@final\u001b[39m\n\u001b[1;32m   2168\u001b[0m \u001b[38;5;28;01mdef\u001b[39;00m \u001b[38;5;21m__array_ufunc__\u001b[39m(\n\u001b[1;32m   2169\u001b[0m     \u001b[38;5;28mself\u001b[39m, ufunc: np\u001b[38;5;241m.\u001b[39mufunc, method: \u001b[38;5;28mstr\u001b[39m, \u001b[38;5;241m*\u001b[39minputs: Any, \u001b[38;5;241m*\u001b[39m\u001b[38;5;241m*\u001b[39mkwargs: Any\n\u001b[1;32m   2170\u001b[0m ):\n\u001b[0;32m-> 2171\u001b[0m     \u001b[38;5;28;01mreturn\u001b[39;00m \u001b[43marraylike\u001b[49m\u001b[38;5;241;43m.\u001b[39;49m\u001b[43marray_ufunc\u001b[49m\u001b[43m(\u001b[49m\u001b[38;5;28;43mself\u001b[39;49m\u001b[43m,\u001b[49m\u001b[43m \u001b[49m\u001b[43mufunc\u001b[49m\u001b[43m,\u001b[49m\u001b[43m \u001b[49m\u001b[43mmethod\u001b[49m\u001b[43m,\u001b[49m\u001b[43m \u001b[49m\u001b[38;5;241;43m*\u001b[39;49m\u001b[43minputs\u001b[49m\u001b[43m,\u001b[49m\u001b[43m \u001b[49m\u001b[38;5;241;43m*\u001b[39;49m\u001b[38;5;241;43m*\u001b[39;49m\u001b[43mkwargs\u001b[49m\u001b[43m)\u001b[49m\n",
      "File \u001b[0;32m~/anaconda3/envs/scRNA-seq/lib/python3.11/site-packages/pandas/core/arraylike.py:399\u001b[0m, in \u001b[0;36marray_ufunc\u001b[0;34m(self, ufunc, method, *inputs, **kwargs)\u001b[0m\n\u001b[1;32m    396\u001b[0m \u001b[38;5;28;01melif\u001b[39;00m \u001b[38;5;28mself\u001b[39m\u001b[38;5;241m.\u001b[39mndim \u001b[38;5;241m==\u001b[39m \u001b[38;5;241m1\u001b[39m:\n\u001b[1;32m    397\u001b[0m     \u001b[38;5;66;03m# ufunc(series, ...)\u001b[39;00m\n\u001b[1;32m    398\u001b[0m     inputs \u001b[38;5;241m=\u001b[39m \u001b[38;5;28mtuple\u001b[39m(extract_array(x, extract_numpy\u001b[38;5;241m=\u001b[39m\u001b[38;5;28;01mTrue\u001b[39;00m) \u001b[38;5;28;01mfor\u001b[39;00m x \u001b[38;5;129;01min\u001b[39;00m inputs)\n\u001b[0;32m--> 399\u001b[0m     result \u001b[38;5;241m=\u001b[39m \u001b[38;5;28;43mgetattr\u001b[39;49m\u001b[43m(\u001b[49m\u001b[43mufunc\u001b[49m\u001b[43m,\u001b[49m\u001b[43m \u001b[49m\u001b[43mmethod\u001b[49m\u001b[43m)\u001b[49m\u001b[43m(\u001b[49m\u001b[38;5;241;43m*\u001b[39;49m\u001b[43minputs\u001b[49m\u001b[43m,\u001b[49m\u001b[43m \u001b[49m\u001b[38;5;241;43m*\u001b[39;49m\u001b[38;5;241;43m*\u001b[39;49m\u001b[43mkwargs\u001b[49m\u001b[43m)\u001b[49m\n\u001b[1;32m    400\u001b[0m \u001b[38;5;28;01melse\u001b[39;00m:\n\u001b[1;32m    401\u001b[0m     \u001b[38;5;66;03m# ufunc(dataframe)\u001b[39;00m\n\u001b[1;32m    402\u001b[0m     \u001b[38;5;28;01mif\u001b[39;00m method \u001b[38;5;241m==\u001b[39m \u001b[38;5;124m\"\u001b[39m\u001b[38;5;124m__call__\u001b[39m\u001b[38;5;124m\"\u001b[39m \u001b[38;5;129;01mand\u001b[39;00m \u001b[38;5;129;01mnot\u001b[39;00m kwargs:\n\u001b[1;32m    403\u001b[0m         \u001b[38;5;66;03m# for np.<ufunc>(..) calls\u001b[39;00m\n\u001b[1;32m    404\u001b[0m         \u001b[38;5;66;03m# kwargs cannot necessarily be handled block-by-block, so only\u001b[39;00m\n\u001b[1;32m    405\u001b[0m         \u001b[38;5;66;03m# take this path if there are no kwargs\u001b[39;00m\n",
      "\u001b[0;31mTypeError\u001b[0m: loop of ufunc does not support argument 0 of type numpy.float32 which has no callable log method"
     ]
    }
   ],
   "source": [
    "adata_pb.obs[\"lib_size\"] = np.sum(adata_pb.layers[\"counts\"], axis=1)\n",
    "adata_pb.obs[\"log_lib_size\"] = np.log(adata_pb.obs[\"lib_size\"])\n",
    "sc.pl.pca(adata_pb, color=adata_pb.obs, ncols=1, size=300)"
   ]
  }
 ],
 "metadata": {
  "kernelspec": {
   "display_name": "scRNA-seq",
   "language": "python",
   "name": "python3"
  },
  "language_info": {
   "codemirror_mode": {
    "name": "ipython",
    "version": 3
   },
   "file_extension": ".py",
   "mimetype": "text/x-python",
   "name": "python",
   "nbconvert_exporter": "python",
   "pygments_lexer": "ipython3",
   "version": "3.11.10"
  }
 },
 "nbformat": 4,
 "nbformat_minor": 2
}
